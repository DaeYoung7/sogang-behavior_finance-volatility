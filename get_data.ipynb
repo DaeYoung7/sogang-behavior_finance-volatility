{
 "cells": [
  {
   "cell_type": "code",
   "execution_count": 1,
   "metadata": {},
   "outputs": [],
   "source": [
    "import urllib.request as req\n",
    "from bs4 import BeautifulSoup\n",
    "from tqdm.notebook import tqdm\n",
    "import pandas as pd"
   ]
  },
  {
   "cell_type": "code",
   "execution_count": 24,
   "metadata": {},
   "outputs": [],
   "source": [
    "# 개별 종목\n",
    "\n",
    "# 삼성전자, sk하이닉스, 삼성바이오로직스, NAVER, LG화학\n",
    "code = ['005930', '000660', '207940', '035420', '051910']\n",
    "page = [i for i in range(1, 2)]\n",
    "\n",
    "flag = 0\n",
    "inst = 0\n",
    "for c in code:\n",
    "    dates = []\n",
    "    prices = []\n",
    "    volume_p = []\n",
    "    volume_i = []\n",
    "    volume_f = []\n",
    "    for p in page:\n",
    "        url = 'https://finance.naver.com/item/frgn.nhn?code=' + c + '&page=' + str(p)\n",
    "        res = req.urlopen(url)\n",
    "        soup = BeautifulSoup(res, 'html.parser')\n",
    "        info = soup.select('#content > div.section.inner_sub > table.type2 > tr > td > span')\n",
    "        for i in range(len(info)):\n",
    "            if i%9 == 0:\n",
    "                dates.append(int(info[i].text.replace('.','')))\n",
    "            elif i%9 == 1:\n",
    "                prices.append(int(info[i].text.replace(',','')))\n",
    "            elif i%9 == 5 or i%9 == 6:\n",
    "                value = int(info[i].text.replace(',', ''))\n",
    "                if flag:\n",
    "                    volume_f.append(value)\n",
    "                    value += inst\n",
    "                    volume_p.append(value)\n",
    "                    flag = 0\n",
    "                else:\n",
    "                    volume_i.append(value)\n",
    "                    inst = value\n",
    "                    flag = 1\n",
    "    dates.reverse()\n",
    "    prices.reverse()\n",
    "    volume_p.reverse()\n",
    "    volume_i.reverse()\n",
    "    volume_f.reverse()\n",
    "    pd.DataFrame({\"dates\":dates, \"prices\":prices, \"volume_p\":volume_p, \"volume_i\":volume_i, \"volume_f\":volume_f}).to_csv(c+'.csv', ',')"
   ]
  },
  {
   "cell_type": "code",
   "execution_count": 42,
   "metadata": {},
   "outputs": [
    {
     "data": {
      "application/vnd.jupyter.widget-view+json": {
       "model_id": "1e1d4305197a405eae9c6176b73d8f78",
       "version_major": 2,
       "version_minor": 0
      },
      "text/plain": [
       "HBox(children=(FloatProgress(value=0.0, max=654.0), HTML(value='')))"
      ]
     },
     "metadata": {},
     "output_type": "display_data"
    },
    {
     "name": "stdout",
     "output_type": "stream",
     "text": [
      "\n"
     ]
    }
   ],
   "source": [
    "# KOSPI 지수, 한 페이지당 6개씩\n",
    "\n",
    "page = [i for i in range(1,655)]\n",
    "prices = []\n",
    "for p in tqdm(page):\n",
    "    url = 'https://finance.naver.com/sise/sise_index_day.nhn?code=KOSPI&page=' + str(p)\n",
    "    res = req.urlopen(url)\n",
    "    soup = BeautifulSoup(res, 'html.parser')\n",
    "    info = soup.find_all(\"td\",{\"class\": \"number_1\"})[0::4]\n",
    "    for i in info:\n",
    "        prices.append(float(i.text.replace(',','')))\n",
    "prices.reverse()"
   ]
  },
  {
   "cell_type": "code",
   "execution_count": 41,
   "metadata": {},
   "outputs": [
    {
     "data": {
      "application/vnd.jupyter.widget-view+json": {
       "model_id": "870abca17584447fb2cff61515ff965d",
       "version_major": 2,
       "version_minor": 0
      },
      "text/plain": [
       "HBox(children=(FloatProgress(value=0.0, max=392.0), HTML(value='')))"
      ]
     },
     "metadata": {},
     "output_type": "display_data"
    },
    {
     "name": "stdout",
     "output_type": "stream",
     "text": [
      "\n"
     ]
    }
   ],
   "source": [
    "# KOSPI 지수, 한 페이지당 10개씩\n",
    "page = [i for i in range(1,393)]\n",
    "dates = []\n",
    "volume_p = []\n",
    "volume_i = []\n",
    "volume_f = []\n",
    "for p in tqdm(page):\n",
    "    url = 'https://finance.naver.com/sise/investorDealTrendDay.nhn?bizdate=20201105&sosok=&page=' + str(p)\n",
    "    res = req.urlopen(url)\n",
    "    soup = BeautifulSoup(res, 'html.parser')\n",
    "    info = soup.select('body > table.type_1 > tr > td')[1:-2]\n",
    "    del info[53:56]\n",
    "    for i in range(len(info)):\n",
    "        if i%11 ==0:\n",
    "            dates.append(int(info[i].text.replace('.','')))\n",
    "        elif i%11 == 1:\n",
    "            volume_p.append(int(info[i].text.replace(',', '')))\n",
    "        elif i%11 == 2:\n",
    "            volume_f.append(int(info[i].text.replace(',', '')))\n",
    "        elif i%11 == 3:\n",
    "            volume_i.append(int(info[i].text.replace(',', '')))\n",
    "dates.reverse()\n",
    "volume_p.reverse()\n",
    "volume_i.reverse()\n",
    "volume_f.reverse()"
   ]
  },
  {
   "cell_type": "code",
   "execution_count": 63,
   "metadata": {},
   "outputs": [],
   "source": [
    "pd.DataFrame({\"dates\":dates, \"prices\":prices, \"volume_p\":volume_p, \"volume_i\":volume_i, \"volume_f\":volume_f}).to_csv('KOSPI'+'.csv', ',')"
   ]
  },
  {
   "cell_type": "code",
   "execution_count": 62,
   "metadata": {},
   "outputs": [
    {
     "data": {
      "text/plain": [
       "50103"
      ]
     },
     "execution_count": 62,
     "metadata": {},
     "output_type": "execute_result"
    }
   ],
   "source": [
    "dates[0]"
   ]
  },
  {
   "cell_type": "code",
   "execution_count": 48,
   "metadata": {},
   "outputs": [
    {
     "data": {
      "text/plain": [
       "3924"
      ]
     },
     "execution_count": 48,
     "metadata": {},
     "output_type": "execute_result"
    }
   ],
   "source": [
    "len(prices)"
   ]
  },
  {
   "cell_type": "code",
   "execution_count": 51,
   "metadata": {},
   "outputs": [
    {
     "data": {
      "text/plain": [
       "3919"
      ]
     },
     "execution_count": 51,
     "metadata": {},
     "output_type": "execute_result"
    }
   ],
   "source": [
    "len(dates)"
   ]
  },
  {
   "cell_type": "code",
   "execution_count": 57,
   "metadata": {},
   "outputs": [
    {
     "data": {
      "text/plain": [
       "50103"
      ]
     },
     "execution_count": 57,
     "metadata": {},
     "output_type": "execute_result"
    }
   ],
   "source": [
    "dates[-1]"
   ]
  },
  {
   "cell_type": "code",
   "execution_count": null,
   "metadata": {},
   "outputs": [],
   "source": []
  }
 ],
 "metadata": {
  "kernelspec": {
   "display_name": "Python 3",
   "language": "python",
   "name": "python3"
  },
  "language_info": {
   "codemirror_mode": {
    "name": "ipython",
    "version": 3
   },
   "file_extension": ".py",
   "mimetype": "text/x-python",
   "name": "python",
   "nbconvert_exporter": "python",
   "pygments_lexer": "ipython3",
   "version": "3.8.3"
  }
 },
 "nbformat": 4,
 "nbformat_minor": 4
}
